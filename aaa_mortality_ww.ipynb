{
 "cells": [
  {
   "cell_type": "code",
   "execution_count": 41,
   "metadata": {},
   "outputs": [
    {
     "name": "stderr",
     "output_type": "stream",
     "text": [
      "Loading required package: wesanderson\n",
      "Warning message:\n",
      "\"package 'wesanderson' was built under R version 3.5.2\""
     ]
    }
   ],
   "source": [
    "require(tidyverse)\n",
    "require(ggpubr)\n",
    "require(wesanderson)"
   ]
  },
  {
   "cell_type": "code",
   "execution_count": 36,
   "metadata": {},
   "outputs": [],
   "source": [
    "nordic_countries <- c('Sweden', 'Finland', 'Norway', 'Denmark')"
   ]
  },
  {
   "cell_type": "code",
   "execution_count": 82,
   "metadata": {},
   "outputs": [],
   "source": [
    "df <- read.csv('ihme/IHME-GBD_2017_DATA-83001936-1.csv')"
   ]
  },
  {
   "cell_type": "code",
   "execution_count": 83,
   "metadata": {},
   "outputs": [
    {
     "data": {
      "text/html": [
       "<table>\n",
       "<thead><tr><th scope=col>measure</th><th scope=col>location</th><th scope=col>sex</th><th scope=col>age</th><th scope=col>cause</th><th scope=col>metric</th><th scope=col>year</th><th scope=col>val</th><th scope=col>upper</th><th scope=col>lower</th></tr></thead>\n",
       "<tbody>\n",
       "\t<tr><td>Deaths         </td><td>Colorado       </td><td>Male           </td><td>50-69 years    </td><td>Aortic aneurysm</td><td>Rate           </td><td>1990           </td><td>15.694101      </td><td>17.551884      </td><td>13.953560      </td></tr>\n",
       "\t<tr><td>Deaths         </td><td>Colorado       </td><td>Female         </td><td>50-69 years    </td><td>Aortic aneurysm</td><td>Rate           </td><td>1990           </td><td> 4.697445      </td><td> 5.381473      </td><td> 4.020074      </td></tr>\n",
       "\t<tr><td>Deaths         </td><td>Venezuela      </td><td>Male           </td><td>50-69 years    </td><td>Aortic aneurysm</td><td>Rate           </td><td>1990           </td><td> 8.384413      </td><td> 9.945412      </td><td> 6.957468      </td></tr>\n",
       "\t<tr><td>Deaths         </td><td>Venezuela      </td><td>Female         </td><td>50-69 years    </td><td>Aortic aneurysm</td><td>Rate           </td><td>1990           </td><td> 2.064232      </td><td> 2.569308      </td><td> 1.710380      </td></tr>\n",
       "\t<tr><td>Deaths         </td><td>Liberia        </td><td>Male           </td><td>50-69 years    </td><td>Aortic aneurysm</td><td>Rate           </td><td>1990           </td><td> 7.337677      </td><td>11.252052      </td><td> 3.539005      </td></tr>\n",
       "\t<tr><td>Deaths         </td><td>Liberia        </td><td>Female         </td><td>50-69 years    </td><td>Aortic aneurysm</td><td>Rate           </td><td>1990           </td><td> 5.141273      </td><td> 8.357830      </td><td> 2.901407      </td></tr>\n",
       "</tbody>\n",
       "</table>\n"
      ],
      "text/latex": [
       "\\begin{tabular}{r|llllllllll}\n",
       " measure & location & sex & age & cause & metric & year & val & upper & lower\\\\\n",
       "\\hline\n",
       "\t Deaths          & Colorado        & Male            & 50-69 years     & Aortic aneurysm & Rate            & 1990            & 15.694101       & 17.551884       & 13.953560      \\\\\n",
       "\t Deaths          & Colorado        & Female          & 50-69 years     & Aortic aneurysm & Rate            & 1990            &  4.697445       &  5.381473       &  4.020074      \\\\\n",
       "\t Deaths          & Venezuela       & Male            & 50-69 years     & Aortic aneurysm & Rate            & 1990            &  8.384413       &  9.945412       &  6.957468      \\\\\n",
       "\t Deaths          & Venezuela       & Female          & 50-69 years     & Aortic aneurysm & Rate            & 1990            &  2.064232       &  2.569308       &  1.710380      \\\\\n",
       "\t Deaths          & Liberia         & Male            & 50-69 years     & Aortic aneurysm & Rate            & 1990            &  7.337677       & 11.252052       &  3.539005      \\\\\n",
       "\t Deaths          & Liberia         & Female          & 50-69 years     & Aortic aneurysm & Rate            & 1990            &  5.141273       &  8.357830       &  2.901407      \\\\\n",
       "\\end{tabular}\n"
      ],
      "text/markdown": [
       "\n",
       "measure | location | sex | age | cause | metric | year | val | upper | lower | \n",
       "|---|---|---|---|---|---|\n",
       "| Deaths          | Colorado        | Male            | 50-69 years     | Aortic aneurysm | Rate            | 1990            | 15.694101       | 17.551884       | 13.953560       | \n",
       "| Deaths          | Colorado        | Female          | 50-69 years     | Aortic aneurysm | Rate            | 1990            |  4.697445       |  5.381473       |  4.020074       | \n",
       "| Deaths          | Venezuela       | Male            | 50-69 years     | Aortic aneurysm | Rate            | 1990            |  8.384413       |  9.945412       |  6.957468       | \n",
       "| Deaths          | Venezuela       | Female          | 50-69 years     | Aortic aneurysm | Rate            | 1990            |  2.064232       |  2.569308       |  1.710380       | \n",
       "| Deaths          | Liberia         | Male            | 50-69 years     | Aortic aneurysm | Rate            | 1990            |  7.337677       | 11.252052       |  3.539005       | \n",
       "| Deaths          | Liberia         | Female          | 50-69 years     | Aortic aneurysm | Rate            | 1990            |  5.141273       |  8.357830       |  2.901407       | \n",
       "\n",
       "\n"
      ],
      "text/plain": [
       "  measure location  sex    age         cause           metric year val      \n",
       "1 Deaths  Colorado  Male   50-69 years Aortic aneurysm Rate   1990 15.694101\n",
       "2 Deaths  Colorado  Female 50-69 years Aortic aneurysm Rate   1990  4.697445\n",
       "3 Deaths  Venezuela Male   50-69 years Aortic aneurysm Rate   1990  8.384413\n",
       "4 Deaths  Venezuela Female 50-69 years Aortic aneurysm Rate   1990  2.064232\n",
       "5 Deaths  Liberia   Male   50-69 years Aortic aneurysm Rate   1990  7.337677\n",
       "6 Deaths  Liberia   Female 50-69 years Aortic aneurysm Rate   1990  5.141273\n",
       "  upper     lower    \n",
       "1 17.551884 13.953560\n",
       "2  5.381473  4.020074\n",
       "3  9.945412  6.957468\n",
       "4  2.569308  1.710380\n",
       "5 11.252052  3.539005\n",
       "6  8.357830  2.901407"
      ]
     },
     "metadata": {},
     "output_type": "display_data"
    }
   ],
   "source": [
    "head(df)"
   ]
  },
  {
   "cell_type": "code",
   "execution_count": 86,
   "metadata": {},
   "outputs": [
    {
     "data": {
      "text/html": [
       "<table>\n",
       "<thead><tr><th scope=col>measure</th><th scope=col>n</th></tr></thead>\n",
       "<tbody>\n",
       "\t<tr><td>DALYs (Disability-Adjusted Life Years)</td><td>34664                                 </td></tr>\n",
       "\t<tr><td>Deaths                                </td><td>34664                                 </td></tr>\n",
       "</tbody>\n",
       "</table>\n"
      ],
      "text/latex": [
       "\\begin{tabular}{r|ll}\n",
       " measure & n\\\\\n",
       "\\hline\n",
       "\t DALYs (Disability-Adjusted Life Years) & 34664                                 \\\\\n",
       "\t Deaths                                 & 34664                                 \\\\\n",
       "\\end{tabular}\n"
      ],
      "text/markdown": [
       "\n",
       "measure | n | \n",
       "|---|---|\n",
       "| DALYs (Disability-Adjusted Life Years) | 34664                                  | \n",
       "| Deaths                                 | 34664                                  | \n",
       "\n",
       "\n"
      ],
      "text/plain": [
       "  measure                                n    \n",
       "1 DALYs (Disability-Adjusted Life Years) 34664\n",
       "2 Deaths                                 34664"
      ]
     },
     "metadata": {},
     "output_type": "display_data"
    },
    {
     "data": {
      "text/html": [
       "<table>\n",
       "<thead><tr><th scope=col>age</th><th scope=col>n</th></tr></thead>\n",
       "<tbody>\n",
       "\t<tr><td>50-69 years</td><td>69328      </td></tr>\n",
       "</tbody>\n",
       "</table>\n"
      ],
      "text/latex": [
       "\\begin{tabular}{r|ll}\n",
       " age & n\\\\\n",
       "\\hline\n",
       "\t 50-69 years & 69328      \\\\\n",
       "\\end{tabular}\n"
      ],
      "text/markdown": [
       "\n",
       "age | n | \n",
       "|---|\n",
       "| 50-69 years | 69328       | \n",
       "\n",
       "\n"
      ],
      "text/plain": [
       "  age         n    \n",
       "1 50-69 years 69328"
      ]
     },
     "metadata": {},
     "output_type": "display_data"
    }
   ],
   "source": [
    "df  %>% count(measure)\n",
    "df  %>% count(age)\n"
   ]
  },
  {
   "cell_type": "code",
   "execution_count": 89,
   "metadata": {},
   "outputs": [
    {
     "data": {},
     "metadata": {},
     "output_type": "display_data"
    },
    {
     "data": {
      "image/png": "[encoded data removed]",
      "text/plain": [
       "plot without title"
      ]
     },
     "metadata": {},
     "output_type": "display_data"
    }
   ],
   "source": [
    "options(repr.plot.width = 5, repr.plot.height = 3)\n",
    "\n",
    "df  %>% \n",
    "    filter(sex == 'Male', measure == 'Deaths')  %>%\n",
    "    filter(location %in% c('Sweden', 'Spain', 'Greece', 'United Kingdom', 'United States'))  %>% \n",
    "    ggplot(aes(y = val, x = year, group = sex, col = location)) +\n",
    "    geom_line(aes(group = location), size = 1) +\n",
    "    scale_color_manual(values = wes_palette('Darjeeling1')) +\n",
    "    labs(col = '')"
   ]
  },
  {
   "cell_type": "code",
   "execution_count": 94,
   "metadata": {},
   "outputs": [
    {
     "ename": "ERROR",
     "evalue": "Error in vars_select(df$location, contains(\"World Bank\")): could not find function \"vars_select\"\n",
     "output_type": "error",
     "traceback": [
      "Error in vars_select(df$location, contains(\"World Bank\")): could not find function \"vars_select\"\nTraceback:\n"
     ]
    }
   ],
   "source": [
    "vars_select(df$location, contains('World Bank'))"
   ]
  },
  {
   "cell_type": "code",
   "execution_count": 140,
   "metadata": {},
   "outputs": [],
   "source": [
    "df  %>% \n",
    "    filter(str_detect(location, 'World Bank'), measure == 'Deaths', sex == 'Male')  %>% \n",
    "    filter(location != 'World Bank Income Levels')  %>%\n",
    "    filter(location != 'World Bank Regions')  %>% \n",
    "    ggplot(aes(x = year, y = val, group = location, col = location)) + \n",
    "    geom_line(size = 1) +\n",
    "    scale_color_manual(values = wes_palette('Darjeeling1'), \n",
    "                       labels = c('High Income', 'Low Income', 'Lower Middle Income', 'Upper Middle Income')) +\n",
    "    labs(col = '') + theme(legend.position = c(0.8, 0.8)) -> p1"
   ]
  },
  {
   "cell_type": "code",
   "execution_count": 146,
   "metadata": {},
   "outputs": [],
   "source": [
    "df  %>% \n",
    "    filter(location %in% c('Sweden', 'Finland', 'United States', 'United Kingdom', 'Armenia'),\n",
    "           measure == 'Deaths', sex == 'Male')  %>% \n",
    "    filter(location != 'World Bank Income Levels')  %>% \n",
    "    ggplot(aes(x = year, y = val, group = location, col = location)) + \n",
    "    geom_line(size = 1) +\n",
    "    scale_color_manual(values = wes_palette('Darjeeling1')) +\n",
    "    labs(col = '') -> p2"
   ]
  },
  {
   "cell_type": "code",
   "execution_count": 147,
   "metadata": {},
   "outputs": [
    {
     "data": {},
     "metadata": {},
     "output_type": "display_data"
    },
    {
     "data": {
      "image/png": "[encoded data removed]",
      "text/plain": [
       "plot without title"
      ]
     },
     "metadata": {},
     "output_type": "display_data"
    }
   ],
   "source": [
    "options(repr.plot.width = 5, repr.plot.height = 3)\n",
    "\n",
    "p2"
   ]
  },
  {
   "cell_type": "code",
   "execution_count": 113,
   "metadata": {},
   "outputs": [
    {
     "data": {},
     "metadata": {},
     "output_type": "display_data"
    },
    {
     "data": {
      "image/png": "[encoded data removed]",
      "text/plain": [
       "plot without title"
      ]
     },
     "metadata": {},
     "output_type": "display_data"
    }
   ],
   "source": [
    "df  %>% \n",
    "    filter(str_detect(location, 'Region'),\n",
    "           measure == 'Deaths',\n",
    "           sex == 'Male')  %>% \n",
    "    filter(!location %in% c('Four World Regions', 'Nordic Region', 'World Bank Regions'))  %>% \n",
    "    ggplot(aes(x = year, y = val, group = location, col = location)) + \n",
    "    geom_line(size = 1) +\n",
    "    labs(col = '')"
   ]
  }
 ],
 "metadata": {
  "kernelspec": {
   "display_name": "R",
   "language": "R",
   "name": "ir"
  },
  "language_info": {
   "codemirror_mode": "r",
   "file_extension": ".r",
   "mimetype": "text/x-r-source",
   "name": "R",
   "pygments_lexer": "r",
   "version": "3.5.1"
  }
 },
 "nbformat": 4,
 "nbformat_minor": 2
}
